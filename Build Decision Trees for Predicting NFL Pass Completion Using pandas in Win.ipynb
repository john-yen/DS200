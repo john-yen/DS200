{
 "cells": [
  {
   "cell_type": "code",
   "execution_count": 2,
   "metadata": {},
   "outputs": [],
   "source": [
    "import datascience\n",
    "import numpy as np\n",
    "import pandas as pd\n",
    "import graphviz\n",
    "from datascience import *\n",
    "from sklearn.feature_extraction.text import CountVectorizer\n",
    "from sklearn.model_selection import train_test_split\n",
    "\n",
    "from sklearn.pipeline import Pipeline\n",
    "from sklearn import tree\n",
    "from sklearn.tree import DecisionTreeClassifier\n",
    "from sklearn import metrics\n",
    "\n",
    "import os\n",
    "os.environ[\"PATH\"] += os.pathsep + 'C:/Program Files (x86)/Graphviz2.38/bin/'\n",
    "\n"
   ]
  },
  {
   "cell_type": "code",
   "execution_count": 34,
   "metadata": {},
   "outputs": [],
   "source": [
    "Ben_pass= pd.read_csv('Ben-NE-9-10-2015-pass-6.csv', sep=\",\")"
   ]
  },
  {
   "cell_type": "code",
   "execution_count": 35,
   "metadata": {},
   "outputs": [
    {
     "name": "stdout",
     "output_type": "stream",
     "text": [
      "    down  ydstogo  Yards.Gained.PrevPlay  AirYards  PassLocation  PassOutcome\n",
      "0      1       10                     18        -4             1            1\n",
      "1      1       10                      0         9             1            1\n",
      "2      3       22                      6         1             1            1\n",
      "3      1       10                      0         7            -1            1\n",
      "4      1       10                     13         6            -1            1\n",
      "5      1       10                     12         7            -1            1\n",
      "6      1       10                      0         5             1            0\n",
      "7      2       10                      0        25             1            0\n",
      "8      3        5                     -1         6            -1            1\n",
      "9      1       15                      4        -1             1            1\n",
      "10     3       18                     -6        17            -1            1\n",
      "11     1       20                      5         5            -1            1\n",
      "12     2       11                      9         4            -1            1\n",
      "13     2       13                     -3        -2            -1            1\n",
      "14     3        6                      7         6             0            1\n",
      "15     2        7                      0        11             1            1\n",
      "16     1       10                     13        16             1            1\n",
      "17     1       10                     19         6             1            1\n",
      "18     2        8                      2         0            -1            0\n",
      "19     3        8                      0        39            -1            1\n",
      "20     3        3                      1        19             1            0\n",
      "21     1       10                      0        11             0            1\n",
      "22     2       10                      0        17            -1            1\n",
      "23     1       10                     18         7             0            1\n",
      "24     1        9                      2         4            -1            1\n",
      "25     2        6                      3         6             0            1\n",
      "26     1       10                      0         5             1            1\n",
      "27     2       15                      9         4            -1            1\n",
      "28     3        6                      9        26             1            1\n",
      "29     2        8                      2         0            -1            1\n",
      "..   ...      ...                    ...       ...           ...          ...\n",
      "40     2       15                     -5         7             0            1\n",
      "41     3        6                     -1         2            -1            1\n",
      "42     1       10                      0        25             1            1\n",
      "43     2        5                      5         2             1            1\n",
      "44     2        8                      0         1             1            1\n",
      "45     1        1                      0         1             0            0\n",
      "46     1       10                      0        18             1            1\n",
      "47     1       10                      0        27             0            0\n",
      "48     3        5                      5         4             0            1\n",
      "49     2        1                      0         1             1            0\n",
      "50     3        1                      0         1            -1            1\n",
      "51     2        3                      7         9             0            0\n",
      "52     3        3                      0         9             1            0\n",
      "53     2       12                     -2        23             1            0\n",
      "54     3       12                      0         6             0            0\n",
      "55     1       10                      0        18             1            1\n",
      "56     1       10                     18        39            -1            0\n",
      "57     2        9                      1         7            -1            1\n",
      "58     3        4                      3        -3             1            0\n",
      "59     1       10                      0        11             1            0\n",
      "60     2       10                      0         4            -1            1\n",
      "61     3        1                      9         6             0            1\n",
      "62     1       10                      0        29             0            0\n",
      "63     2       10                      0         1            -1            1\n",
      "64     3        8                      2        13             0            1\n",
      "65     2       27                     -7        14             0            1\n",
      "66     3        9                      0        12            -1            0\n",
      "67     4        9                      0        15            -1            1\n",
      "68     1       10                      0        11            -1            1\n",
      "69     1       10                     11        11            -1            1\n",
      "\n",
      "[70 rows x 6 columns]\n"
     ]
    }
   ],
   "source": [
    "print(Ben_pass)"
   ]
  },
  {
   "cell_type": "code",
   "execution_count": 36,
   "metadata": {},
   "outputs": [
    {
     "name": "stdout",
     "output_type": "stream",
     "text": [
      "[[ 1 10 18 -4]\n",
      " [ 1 10  0  9]\n",
      " [ 3 22  6  1]\n",
      " [ 1 10  0  7]\n",
      " [ 1 10 13  6]\n",
      " [ 1 10 12  7]\n",
      " [ 1 10  0  5]\n",
      " [ 2 10  0 25]\n",
      " [ 3  5 -1  6]\n",
      " [ 1 15  4 -1]\n",
      " [ 3 18 -6 17]\n",
      " [ 1 20  5  5]\n",
      " [ 2 11  9  4]\n",
      " [ 2 13 -3 -2]\n",
      " [ 3  6  7  6]\n",
      " [ 2  7  0 11]\n",
      " [ 1 10 13 16]\n",
      " [ 1 10 19  6]\n",
      " [ 2  8  2  0]\n",
      " [ 3  8  0 39]\n",
      " [ 3  3  1 19]\n",
      " [ 1 10  0 11]\n",
      " [ 2 10  0 17]\n",
      " [ 1 10 18  7]\n",
      " [ 1  9  2  4]\n",
      " [ 2  6  3  6]\n",
      " [ 1 10  0  5]\n",
      " [ 2 15  9  4]\n",
      " [ 3  6  9 26]\n",
      " [ 2  8  2  0]\n",
      " [ 3  3  5 23]\n",
      " [ 4  3  0  4]\n",
      " [ 2  5  5 26]\n",
      " [ 3  5  0  7]\n",
      " [ 1 10  0  4]\n",
      " [ 3  5  1  5]\n",
      " [ 2  1  9 -1]\n",
      " [ 2  1  0  0]\n",
      " [ 1 10 28 23]\n",
      " [ 1 10 13 -5]\n",
      " [ 2 15 -5  7]\n",
      " [ 3  6 -1  2]\n",
      " [ 1 10  0 25]\n",
      " [ 2  5  5  2]\n",
      " [ 2  8  0  1]\n",
      " [ 1  1  0  1]\n",
      " [ 1 10  0 18]\n",
      " [ 1 10  0 27]\n",
      " [ 3  5  5  4]\n",
      " [ 2  1  0  1]\n",
      " [ 3  1  0  1]\n",
      " [ 2  3  7  9]\n",
      " [ 3  3  0  9]\n",
      " [ 2 12 -2 23]\n",
      " [ 3 12  0  6]\n",
      " [ 1 10  0 18]\n",
      " [ 1 10 18 39]\n",
      " [ 2  9  1  7]\n",
      " [ 3  4  3 -3]\n",
      " [ 1 10  0 11]\n",
      " [ 2 10  0  4]\n",
      " [ 3  1  9  6]\n",
      " [ 1 10  0 29]\n",
      " [ 2 10  0  1]\n",
      " [ 3  8  2 13]\n",
      " [ 2 27 -7 14]\n",
      " [ 3  9  0 12]\n",
      " [ 4  9  0 15]\n",
      " [ 1 10  0 11]\n",
      " [ 1 10 11 11]]\n"
     ]
    }
   ],
   "source": [
    "X= Ben_pass.values[:,0:4]\n",
    "print(X)"
   ]
  },
  {
   "cell_type": "code",
   "execution_count": 37,
   "metadata": {},
   "outputs": [
    {
     "name": "stdout",
     "output_type": "stream",
     "text": [
      "[1 1 1 1 1 1 0 0 1 1 1 1 1 1 1 1 1 1 0 1 0 1 1 1 1 1 1 1 1 1 0 1 0 0 1 1 1\n",
      " 1 1 1 1 1 1 1 1 0 1 0 1 0 1 0 0 0 0 1 0 1 0 0 1 1 0 1 1 1 0 1 1 1]\n"
     ]
    }
   ],
   "source": [
    "Y= Ben_pass.values[:,5]\n",
    "print(Y)"
   ]
  },
  {
   "cell_type": "code",
   "execution_count": 38,
   "metadata": {},
   "outputs": [],
   "source": [
    "X_train, X_test, y_train, y_test = train_test_split( X, Y, test_size = 0.3, random_state = 100)"
   ]
  },
  {
   "cell_type": "code",
   "execution_count": 39,
   "metadata": {},
   "outputs": [
    {
     "name": "stdout",
     "output_type": "stream",
     "text": [
      "[[ 1 10 13 -5]\n",
      " [ 1 10  0  5]\n",
      " [ 1 10 18  7]\n",
      " [ 1 10 18 39]\n",
      " [ 1 10 28 23]\n",
      " [ 3  8  2 13]\n",
      " [ 1 10  0 18]\n",
      " [ 1 20  5  5]\n",
      " [ 2  8  2  0]\n",
      " [ 3  4  3 -3]\n",
      " [ 2 27 -7 14]\n",
      " [ 1 10 12  7]\n",
      " [ 3  3  1 19]\n",
      " [ 1 10 11 11]\n",
      " [ 1 10 18 -4]\n",
      " [ 3  6  9 26]\n",
      " [ 2 11  9  4]\n",
      " [ 1 10  0  5]\n",
      " [ 3  6 -1  2]\n",
      " [ 2  5  5 26]\n",
      " [ 3 12  0  6]]\n"
     ]
    }
   ],
   "source": [
    "print(X_test)"
   ]
  },
  {
   "cell_type": "code",
   "execution_count": 40,
   "metadata": {},
   "outputs": [
    {
     "data": {
      "text/plain": [
       "DecisionTreeClassifier(class_weight=None, criterion='entropy', max_depth=5,\n",
       "            max_features=None, max_leaf_nodes=None,\n",
       "            min_impurity_decrease=0.0, min_impurity_split=None,\n",
       "            min_samples_leaf=2, min_samples_split=2,\n",
       "            min_weight_fraction_leaf=0.0, presort=False, random_state=100,\n",
       "            splitter='best')"
      ]
     },
     "execution_count": 40,
     "metadata": {},
     "output_type": "execute_result"
    }
   ],
   "source": [
    "clf = DecisionTreeClassifier(criterion = 'entropy', random_state = 100,\n",
    "                               max_depth=5, min_samples_leaf=2)\n",
    "clf.fit(X_train, y_train)"
   ]
  },
  {
   "cell_type": "code",
   "execution_count": 41,
   "metadata": {},
   "outputs": [],
   "source": [
    "dot_data= tree.export_graphviz(clf, out_file=None, feature_names=('down','ydstogo','YardsGainedPrevPlay','AirYards'))"
   ]
  },
  {
   "cell_type": "code",
   "execution_count": 44,
   "metadata": {},
   "outputs": [
    {
     "data": {
      "image/svg+xml": [
       "<?xml version=\"1.0\" encoding=\"UTF-8\" standalone=\"no\"?>\r\n",
       "<!DOCTYPE svg PUBLIC \"-//W3C//DTD SVG 1.1//EN\"\r\n",
       " \"http://www.w3.org/Graphics/SVG/1.1/DTD/svg11.dtd\">\r\n",
       "<!-- Generated by graphviz version 2.38.0 (20140413.2041)\r\n",
       " -->\r\n",
       "<!-- Title: Tree Pages: 1 -->\r\n",
       "<svg width=\"770pt\" height=\"581pt\"\r\n",
       " viewBox=\"0.00 0.00 770.00 581.00\" xmlns=\"http://www.w3.org/2000/svg\" xmlns:xlink=\"http://www.w3.org/1999/xlink\">\r\n",
       "<g id=\"graph0\" class=\"graph\" transform=\"scale(1 1) rotate(0) translate(4 577)\">\r\n",
       "<title>Tree</title>\r\n",
       "<polygon fill=\"white\" stroke=\"none\" points=\"-4,4 -4,-577 766,-577 766,4 -4,4\"/>\r\n",
       "<!-- 0 -->\r\n",
       "<g id=\"node1\" class=\"node\"><title>0</title>\r\n",
       "<polygon fill=\"none\" stroke=\"black\" points=\"467,-573 351,-573 351,-505 467,-505 467,-573\"/>\r\n",
       "<text text-anchor=\"middle\" x=\"409\" y=\"-557.8\" font-family=\"Times New Roman,serif\" font-size=\"14.00\">AirYards &lt;= 20.5</text>\r\n",
       "<text text-anchor=\"middle\" x=\"409\" y=\"-542.8\" font-family=\"Times New Roman,serif\" font-size=\"14.00\">entropy = 0.803</text>\r\n",
       "<text text-anchor=\"middle\" x=\"409\" y=\"-527.8\" font-family=\"Times New Roman,serif\" font-size=\"14.00\">samples = 49</text>\r\n",
       "<text text-anchor=\"middle\" x=\"409\" y=\"-512.8\" font-family=\"Times New Roman,serif\" font-size=\"14.00\">value = [12, 37]</text>\r\n",
       "</g>\r\n",
       "<!-- 1 -->\r\n",
       "<g id=\"node2\" class=\"node\"><title>1</title>\r\n",
       "<polygon fill=\"none\" stroke=\"black\" points=\"397,-469 293,-469 293,-401 397,-401 397,-469\"/>\r\n",
       "<text text-anchor=\"middle\" x=\"345\" y=\"-453.8\" font-family=\"Times New Roman,serif\" font-size=\"14.00\">ydstogo &lt;= 4.0</text>\r\n",
       "<text text-anchor=\"middle\" x=\"345\" y=\"-438.8\" font-family=\"Times New Roman,serif\" font-size=\"14.00\">entropy = 0.65</text>\r\n",
       "<text text-anchor=\"middle\" x=\"345\" y=\"-423.8\" font-family=\"Times New Roman,serif\" font-size=\"14.00\">samples = 42</text>\r\n",
       "<text text-anchor=\"middle\" x=\"345\" y=\"-408.8\" font-family=\"Times New Roman,serif\" font-size=\"14.00\">value = [7, 35]</text>\r\n",
       "</g>\r\n",
       "<!-- 0&#45;&gt;1 -->\r\n",
       "<g id=\"edge1\" class=\"edge\"><title>0&#45;&gt;1</title>\r\n",
       "<path fill=\"none\" stroke=\"black\" d=\"M388.221,-504.884C382.8,-496.243 376.887,-486.819 371.223,-477.793\"/>\r\n",
       "<polygon fill=\"black\" stroke=\"black\" points=\"374.173,-475.91 365.894,-469.299 368.244,-479.63 374.173,-475.91\"/>\r\n",
       "<text text-anchor=\"middle\" x=\"360.315\" y=\"-489.969\" font-family=\"Times New Roman,serif\" font-size=\"14.00\">True</text>\r\n",
       "</g>\r\n",
       "<!-- 16 -->\r\n",
       "<g id=\"node17\" class=\"node\"><title>16</title>\r\n",
       "<polygon fill=\"none\" stroke=\"black\" points=\"531,-469 415,-469 415,-401 531,-401 531,-469\"/>\r\n",
       "<text text-anchor=\"middle\" x=\"473\" y=\"-453.8\" font-family=\"Times New Roman,serif\" font-size=\"14.00\">AirYards &lt;= 24.0</text>\r\n",
       "<text text-anchor=\"middle\" x=\"473\" y=\"-438.8\" font-family=\"Times New Roman,serif\" font-size=\"14.00\">entropy = 0.863</text>\r\n",
       "<text text-anchor=\"middle\" x=\"473\" y=\"-423.8\" font-family=\"Times New Roman,serif\" font-size=\"14.00\">samples = 7</text>\r\n",
       "<text text-anchor=\"middle\" x=\"473\" y=\"-408.8\" font-family=\"Times New Roman,serif\" font-size=\"14.00\">value = [5, 2]</text>\r\n",
       "</g>\r\n",
       "<!-- 0&#45;&gt;16 -->\r\n",
       "<g id=\"edge16\" class=\"edge\"><title>0&#45;&gt;16</title>\r\n",
       "<path fill=\"none\" stroke=\"black\" d=\"M429.779,-504.884C435.2,-496.243 441.113,-486.819 446.777,-477.793\"/>\r\n",
       "<polygon fill=\"black\" stroke=\"black\" points=\"449.756,-479.63 452.106,-469.299 443.827,-475.91 449.756,-479.63\"/>\r\n",
       "<text text-anchor=\"middle\" x=\"457.685\" y=\"-489.969\" font-family=\"Times New Roman,serif\" font-size=\"14.00\">False</text>\r\n",
       "</g>\r\n",
       "<!-- 2 -->\r\n",
       "<g id=\"node3\" class=\"node\"><title>2</title>\r\n",
       "<polygon fill=\"none\" stroke=\"black\" points=\"274.5,-365 165.5,-365 165.5,-297 274.5,-297 274.5,-365\"/>\r\n",
       "<text text-anchor=\"middle\" x=\"220\" y=\"-349.8\" font-family=\"Times New Roman,serif\" font-size=\"14.00\">AirYards &lt;= 7.5</text>\r\n",
       "<text text-anchor=\"middle\" x=\"220\" y=\"-334.8\" font-family=\"Times New Roman,serif\" font-size=\"14.00\">entropy = 0.991</text>\r\n",
       "<text text-anchor=\"middle\" x=\"220\" y=\"-319.8\" font-family=\"Times New Roman,serif\" font-size=\"14.00\">samples = 9</text>\r\n",
       "<text text-anchor=\"middle\" x=\"220\" y=\"-304.8\" font-family=\"Times New Roman,serif\" font-size=\"14.00\">value = [4, 5]</text>\r\n",
       "</g>\r\n",
       "<!-- 1&#45;&gt;2 -->\r\n",
       "<g id=\"edge2\" class=\"edge\"><title>1&#45;&gt;2</title>\r\n",
       "<path fill=\"none\" stroke=\"black\" d=\"M304.416,-400.884C293.064,-391.62 280.606,-381.455 268.83,-371.845\"/>\r\n",
       "<polygon fill=\"black\" stroke=\"black\" points=\"270.769,-368.91 260.808,-365.299 266.343,-374.333 270.769,-368.91\"/>\r\n",
       "</g>\r\n",
       "<!-- 9 -->\r\n",
       "<g id=\"node10\" class=\"node\"><title>9</title>\r\n",
       "<polygon fill=\"none\" stroke=\"black\" points=\"401.5,-365 292.5,-365 292.5,-297 401.5,-297 401.5,-365\"/>\r\n",
       "<text text-anchor=\"middle\" x=\"347\" y=\"-349.8\" font-family=\"Times New Roman,serif\" font-size=\"14.00\">AirYards &lt;= 6.5</text>\r\n",
       "<text text-anchor=\"middle\" x=\"347\" y=\"-334.8\" font-family=\"Times New Roman,serif\" font-size=\"14.00\">entropy = 0.439</text>\r\n",
       "<text text-anchor=\"middle\" x=\"347\" y=\"-319.8\" font-family=\"Times New Roman,serif\" font-size=\"14.00\">samples = 33</text>\r\n",
       "<text text-anchor=\"middle\" x=\"347\" y=\"-304.8\" font-family=\"Times New Roman,serif\" font-size=\"14.00\">value = [3, 30]</text>\r\n",
       "</g>\r\n",
       "<!-- 1&#45;&gt;9 -->\r\n",
       "<g id=\"edge9\" class=\"edge\"><title>1&#45;&gt;9</title>\r\n",
       "<path fill=\"none\" stroke=\"black\" d=\"M345.649,-400.884C345.808,-392.778 345.981,-383.982 346.148,-375.472\"/>\r\n",
       "<polygon fill=\"black\" stroke=\"black\" points=\"349.65,-375.366 346.347,-365.299 342.652,-375.229 349.65,-375.366\"/>\r\n",
       "</g>\r\n",
       "<!-- 3 -->\r\n",
       "<g id=\"node4\" class=\"node\"><title>3</title>\r\n",
       "<polygon fill=\"none\" stroke=\"black\" points=\"160,-261 54,-261 54,-193 160,-193 160,-261\"/>\r\n",
       "<text text-anchor=\"middle\" x=\"107\" y=\"-245.8\" font-family=\"Times New Roman,serif\" font-size=\"14.00\">down &lt;= 2.5</text>\r\n",
       "<text text-anchor=\"middle\" x=\"107\" y=\"-230.8\" font-family=\"Times New Roman,serif\" font-size=\"14.00\">entropy = 0.863</text>\r\n",
       "<text text-anchor=\"middle\" x=\"107\" y=\"-215.8\" font-family=\"Times New Roman,serif\" font-size=\"14.00\">samples = 7</text>\r\n",
       "<text text-anchor=\"middle\" x=\"107\" y=\"-200.8\" font-family=\"Times New Roman,serif\" font-size=\"14.00\">value = [2, 5]</text>\r\n",
       "</g>\r\n",
       "<!-- 2&#45;&gt;3 -->\r\n",
       "<g id=\"edge3\" class=\"edge\"><title>2&#45;&gt;3</title>\r\n",
       "<path fill=\"none\" stroke=\"black\" d=\"M183.312,-296.884C173.148,-287.709 162.005,-277.65 151.45,-268.123\"/>\r\n",
       "<polygon fill=\"black\" stroke=\"black\" points=\"153.659,-265.402 143.89,-261.299 148.968,-270.598 153.659,-265.402\"/>\r\n",
       "</g>\r\n",
       "<!-- 8 -->\r\n",
       "<g id=\"node9\" class=\"node\"><title>8</title>\r\n",
       "<polygon fill=\"none\" stroke=\"black\" points=\"270,-253.5 178,-253.5 178,-200.5 270,-200.5 270,-253.5\"/>\r\n",
       "<text text-anchor=\"middle\" x=\"224\" y=\"-238.3\" font-family=\"Times New Roman,serif\" font-size=\"14.00\">entropy = 0.0</text>\r\n",
       "<text text-anchor=\"middle\" x=\"224\" y=\"-223.3\" font-family=\"Times New Roman,serif\" font-size=\"14.00\">samples = 2</text>\r\n",
       "<text text-anchor=\"middle\" x=\"224\" y=\"-208.3\" font-family=\"Times New Roman,serif\" font-size=\"14.00\">value = [2, 0]</text>\r\n",
       "</g>\r\n",
       "<!-- 2&#45;&gt;8 -->\r\n",
       "<g id=\"edge8\" class=\"edge\"><title>2&#45;&gt;8</title>\r\n",
       "<path fill=\"none\" stroke=\"black\" d=\"M221.299,-296.884C221.717,-286.216 222.182,-274.352 222.607,-263.519\"/>\r\n",
       "<polygon fill=\"black\" stroke=\"black\" points=\"226.105,-263.649 222.999,-253.52 219.11,-263.375 226.105,-263.649\"/>\r\n",
       "</g>\r\n",
       "<!-- 4 -->\r\n",
       "<g id=\"node5\" class=\"node\"><title>4</title>\r\n",
       "<polygon fill=\"none\" stroke=\"black\" points=\"112.5,-157 3.5,-157 3.5,-89 112.5,-89 112.5,-157\"/>\r\n",
       "<text text-anchor=\"middle\" x=\"58\" y=\"-141.8\" font-family=\"Times New Roman,serif\" font-size=\"14.00\">AirYards &lt;= 0.5</text>\r\n",
       "<text text-anchor=\"middle\" x=\"58\" y=\"-126.8\" font-family=\"Times New Roman,serif\" font-size=\"14.00\">entropy = 1.0</text>\r\n",
       "<text text-anchor=\"middle\" x=\"58\" y=\"-111.8\" font-family=\"Times New Roman,serif\" font-size=\"14.00\">samples = 4</text>\r\n",
       "<text text-anchor=\"middle\" x=\"58\" y=\"-96.8\" font-family=\"Times New Roman,serif\" font-size=\"14.00\">value = [2, 2]</text>\r\n",
       "</g>\r\n",
       "<!-- 3&#45;&gt;4 -->\r\n",
       "<g id=\"edge4\" class=\"edge\"><title>3&#45;&gt;4</title>\r\n",
       "<path fill=\"none\" stroke=\"black\" d=\"M91.0911,-192.884C87.026,-184.422 82.5996,-175.207 78.3454,-166.352\"/>\r\n",
       "<polygon fill=\"black\" stroke=\"black\" points=\"81.4818,-164.798 73.9968,-157.299 75.1721,-167.829 81.4818,-164.798\"/>\r\n",
       "</g>\r\n",
       "<!-- 7 -->\r\n",
       "<g id=\"node8\" class=\"node\"><title>7</title>\r\n",
       "<polygon fill=\"none\" stroke=\"black\" points=\"223,-149.5 131,-149.5 131,-96.5 223,-96.5 223,-149.5\"/>\r\n",
       "<text text-anchor=\"middle\" x=\"177\" y=\"-134.3\" font-family=\"Times New Roman,serif\" font-size=\"14.00\">entropy = 0.0</text>\r\n",
       "<text text-anchor=\"middle\" x=\"177\" y=\"-119.3\" font-family=\"Times New Roman,serif\" font-size=\"14.00\">samples = 3</text>\r\n",
       "<text text-anchor=\"middle\" x=\"177\" y=\"-104.3\" font-family=\"Times New Roman,serif\" font-size=\"14.00\">value = [0, 3]</text>\r\n",
       "</g>\r\n",
       "<!-- 3&#45;&gt;7 -->\r\n",
       "<g id=\"edge7\" class=\"edge\"><title>3&#45;&gt;7</title>\r\n",
       "<path fill=\"none\" stroke=\"black\" d=\"M129.727,-192.884C137.426,-181.666 146.031,-169.126 153.768,-157.852\"/>\r\n",
       "<polygon fill=\"black\" stroke=\"black\" points=\"156.714,-159.746 159.486,-149.52 150.942,-155.785 156.714,-159.746\"/>\r\n",
       "</g>\r\n",
       "<!-- 5 -->\r\n",
       "<g id=\"node6\" class=\"node\"><title>5</title>\r\n",
       "<polygon fill=\"none\" stroke=\"black\" points=\"92,-53 0,-53 0,-0 92,-0 92,-53\"/>\r\n",
       "<text text-anchor=\"middle\" x=\"46\" y=\"-37.8\" font-family=\"Times New Roman,serif\" font-size=\"14.00\">entropy = 0.0</text>\r\n",
       "<text text-anchor=\"middle\" x=\"46\" y=\"-22.8\" font-family=\"Times New Roman,serif\" font-size=\"14.00\">samples = 2</text>\r\n",
       "<text text-anchor=\"middle\" x=\"46\" y=\"-7.8\" font-family=\"Times New Roman,serif\" font-size=\"14.00\">value = [0, 2]</text>\r\n",
       "</g>\r\n",
       "<!-- 4&#45;&gt;5 -->\r\n",
       "<g id=\"edge5\" class=\"edge\"><title>4&#45;&gt;5</title>\r\n",
       "<path fill=\"none\" stroke=\"black\" d=\"M53.803,-88.9485C52.7459,-80.6238 51.6065,-71.6509 50.5337,-63.2027\"/>\r\n",
       "<polygon fill=\"black\" stroke=\"black\" points=\"54.0001,-62.7161 49.2682,-53.2367 47.0558,-63.598 54.0001,-62.7161\"/>\r\n",
       "</g>\r\n",
       "<!-- 6 -->\r\n",
       "<g id=\"node7\" class=\"node\"><title>6</title>\r\n",
       "<polygon fill=\"none\" stroke=\"black\" points=\"202,-53 110,-53 110,-0 202,-0 202,-53\"/>\r\n",
       "<text text-anchor=\"middle\" x=\"156\" y=\"-37.8\" font-family=\"Times New Roman,serif\" font-size=\"14.00\">entropy = 0.0</text>\r\n",
       "<text text-anchor=\"middle\" x=\"156\" y=\"-22.8\" font-family=\"Times New Roman,serif\" font-size=\"14.00\">samples = 2</text>\r\n",
       "<text text-anchor=\"middle\" x=\"156\" y=\"-7.8\" font-family=\"Times New Roman,serif\" font-size=\"14.00\">value = [2, 0]</text>\r\n",
       "</g>\r\n",
       "<!-- 4&#45;&gt;6 -->\r\n",
       "<g id=\"edge6\" class=\"edge\"><title>4&#45;&gt;6</title>\r\n",
       "<path fill=\"none\" stroke=\"black\" d=\"M92.2756,-88.9485C101.857,-79.709 112.267,-69.671 121.842,-60.4381\"/>\r\n",
       "<polygon fill=\"black\" stroke=\"black\" points=\"124.541,-62.6976 129.31,-53.2367 119.682,-57.6586 124.541,-62.6976\"/>\r\n",
       "</g>\r\n",
       "<!-- 10 -->\r\n",
       "<g id=\"node11\" class=\"node\"><title>10</title>\r\n",
       "<polygon fill=\"none\" stroke=\"black\" points=\"393,-253.5 295,-253.5 295,-200.5 393,-200.5 393,-253.5\"/>\r\n",
       "<text text-anchor=\"middle\" x=\"344\" y=\"-238.3\" font-family=\"Times New Roman,serif\" font-size=\"14.00\">entropy = 0.0</text>\r\n",
       "<text text-anchor=\"middle\" x=\"344\" y=\"-223.3\" font-family=\"Times New Roman,serif\" font-size=\"14.00\">samples = 18</text>\r\n",
       "<text text-anchor=\"middle\" x=\"344\" y=\"-208.3\" font-family=\"Times New Roman,serif\" font-size=\"14.00\">value = [0, 18]</text>\r\n",
       "</g>\r\n",
       "<!-- 9&#45;&gt;10 -->\r\n",
       "<g id=\"edge10\" class=\"edge\"><title>9&#45;&gt;10</title>\r\n",
       "<path fill=\"none\" stroke=\"black\" d=\"M346.026,-296.884C345.712,-286.216 345.363,-274.352 345.045,-263.519\"/>\r\n",
       "<polygon fill=\"black\" stroke=\"black\" points=\"348.543,-263.413 344.751,-253.52 341.546,-263.619 348.543,-263.413\"/>\r\n",
       "</g>\r\n",
       "<!-- 11 -->\r\n",
       "<g id=\"node12\" class=\"node\"><title>11</title>\r\n",
       "<polygon fill=\"none\" stroke=\"black\" points=\"527,-261 411,-261 411,-193 527,-193 527,-261\"/>\r\n",
       "<text text-anchor=\"middle\" x=\"469\" y=\"-245.8\" font-family=\"Times New Roman,serif\" font-size=\"14.00\">AirYards &lt;= 13.5</text>\r\n",
       "<text text-anchor=\"middle\" x=\"469\" y=\"-230.8\" font-family=\"Times New Roman,serif\" font-size=\"14.00\">entropy = 0.722</text>\r\n",
       "<text text-anchor=\"middle\" x=\"469\" y=\"-215.8\" font-family=\"Times New Roman,serif\" font-size=\"14.00\">samples = 15</text>\r\n",
       "<text text-anchor=\"middle\" x=\"469\" y=\"-200.8\" font-family=\"Times New Roman,serif\" font-size=\"14.00\">value = [3, 12]</text>\r\n",
       "</g>\r\n",
       "<!-- 9&#45;&gt;11 -->\r\n",
       "<g id=\"edge11\" class=\"edge\"><title>9&#45;&gt;11</title>\r\n",
       "<path fill=\"none\" stroke=\"black\" d=\"M386.61,-296.884C397.69,-287.62 409.848,-277.455 421.342,-267.845\"/>\r\n",
       "<polygon fill=\"black\" stroke=\"black\" points=\"423.744,-270.399 429.171,-261.299 419.254,-265.028 423.744,-270.399\"/>\r\n",
       "</g>\r\n",
       "<!-- 12 -->\r\n",
       "<g id=\"node13\" class=\"node\"><title>12</title>\r\n",
       "<polygon fill=\"none\" stroke=\"black\" points=\"430,-157 324,-157 324,-89 430,-89 430,-157\"/>\r\n",
       "<text text-anchor=\"middle\" x=\"377\" y=\"-141.8\" font-family=\"Times New Roman,serif\" font-size=\"14.00\">down &lt;= 2.5</text>\r\n",
       "<text text-anchor=\"middle\" x=\"377\" y=\"-126.8\" font-family=\"Times New Roman,serif\" font-size=\"14.00\">entropy = 0.881</text>\r\n",
       "<text text-anchor=\"middle\" x=\"377\" y=\"-111.8\" font-family=\"Times New Roman,serif\" font-size=\"14.00\">samples = 10</text>\r\n",
       "<text text-anchor=\"middle\" x=\"377\" y=\"-96.8\" font-family=\"Times New Roman,serif\" font-size=\"14.00\">value = [3, 7]</text>\r\n",
       "</g>\r\n",
       "<!-- 11&#45;&gt;12 -->\r\n",
       "<g id=\"edge12\" class=\"edge\"><title>11&#45;&gt;12</title>\r\n",
       "<path fill=\"none\" stroke=\"black\" d=\"M439.13,-192.884C431.096,-183.976 422.31,-174.235 413.941,-164.957\"/>\r\n",
       "<polygon fill=\"black\" stroke=\"black\" points=\"416.331,-162.381 407.035,-157.299 411.133,-167.069 416.331,-162.381\"/>\r\n",
       "</g>\r\n",
       "<!-- 15 -->\r\n",
       "<g id=\"node16\" class=\"node\"><title>15</title>\r\n",
       "<polygon fill=\"none\" stroke=\"black\" points=\"540,-149.5 448,-149.5 448,-96.5 540,-96.5 540,-149.5\"/>\r\n",
       "<text text-anchor=\"middle\" x=\"494\" y=\"-134.3\" font-family=\"Times New Roman,serif\" font-size=\"14.00\">entropy = 0.0</text>\r\n",
       "<text text-anchor=\"middle\" x=\"494\" y=\"-119.3\" font-family=\"Times New Roman,serif\" font-size=\"14.00\">samples = 5</text>\r\n",
       "<text text-anchor=\"middle\" x=\"494\" y=\"-104.3\" font-family=\"Times New Roman,serif\" font-size=\"14.00\">value = [0, 5]</text>\r\n",
       "</g>\r\n",
       "<!-- 11&#45;&gt;15 -->\r\n",
       "<g id=\"edge15\" class=\"edge\"><title>11&#45;&gt;15</title>\r\n",
       "<path fill=\"none\" stroke=\"black\" d=\"M477.117,-192.884C479.731,-182.216 482.639,-170.352 485.294,-159.519\"/>\r\n",
       "<polygon fill=\"black\" stroke=\"black\" points=\"488.764,-160.066 487.745,-149.52 481.965,-158.399 488.764,-160.066\"/>\r\n",
       "</g>\r\n",
       "<!-- 13 -->\r\n",
       "<g id=\"node14\" class=\"node\"><title>13</title>\r\n",
       "<polygon fill=\"none\" stroke=\"black\" points=\"378,-53 272,-53 272,-0 378,-0 378,-53\"/>\r\n",
       "<text text-anchor=\"middle\" x=\"325\" y=\"-37.8\" font-family=\"Times New Roman,serif\" font-size=\"14.00\">entropy = 0.544</text>\r\n",
       "<text text-anchor=\"middle\" x=\"325\" y=\"-22.8\" font-family=\"Times New Roman,serif\" font-size=\"14.00\">samples = 8</text>\r\n",
       "<text text-anchor=\"middle\" x=\"325\" y=\"-7.8\" font-family=\"Times New Roman,serif\" font-size=\"14.00\">value = [1, 7]</text>\r\n",
       "</g>\r\n",
       "<!-- 12&#45;&gt;13 -->\r\n",
       "<g id=\"edge13\" class=\"edge\"><title>12&#45;&gt;13</title>\r\n",
       "<path fill=\"none\" stroke=\"black\" d=\"M358.813,-88.9485C354.031,-80.2579 348.86,-70.8608 344.035,-62.0917\"/>\r\n",
       "<polygon fill=\"black\" stroke=\"black\" points=\"347.049,-60.3105 339.162,-53.2367 340.917,-63.6853 347.049,-60.3105\"/>\r\n",
       "</g>\r\n",
       "<!-- 14 -->\r\n",
       "<g id=\"node15\" class=\"node\"><title>14</title>\r\n",
       "<polygon fill=\"none\" stroke=\"black\" points=\"488,-53 396,-53 396,-0 488,-0 488,-53\"/>\r\n",
       "<text text-anchor=\"middle\" x=\"442\" y=\"-37.8\" font-family=\"Times New Roman,serif\" font-size=\"14.00\">entropy = 0.0</text>\r\n",
       "<text text-anchor=\"middle\" x=\"442\" y=\"-22.8\" font-family=\"Times New Roman,serif\" font-size=\"14.00\">samples = 2</text>\r\n",
       "<text text-anchor=\"middle\" x=\"442\" y=\"-7.8\" font-family=\"Times New Roman,serif\" font-size=\"14.00\">value = [2, 0]</text>\r\n",
       "</g>\r\n",
       "<!-- 12&#45;&gt;14 -->\r\n",
       "<g id=\"edge14\" class=\"edge\"><title>12&#45;&gt;14</title>\r\n",
       "<path fill=\"none\" stroke=\"black\" d=\"M399.734,-88.9485C405.837,-80.0749 412.447,-70.4648 418.587,-61.5388\"/>\r\n",
       "<polygon fill=\"black\" stroke=\"black\" points=\"421.514,-63.4594 424.298,-53.2367 415.747,-59.4924 421.514,-63.4594\"/>\r\n",
       "</g>\r\n",
       "<!-- 17 -->\r\n",
       "<g id=\"node18\" class=\"node\"><title>17</title>\r\n",
       "<polygon fill=\"none\" stroke=\"black\" points=\"518,-357.5 426,-357.5 426,-304.5 518,-304.5 518,-357.5\"/>\r\n",
       "<text text-anchor=\"middle\" x=\"472\" y=\"-342.3\" font-family=\"Times New Roman,serif\" font-size=\"14.00\">entropy = 0.0</text>\r\n",
       "<text text-anchor=\"middle\" x=\"472\" y=\"-327.3\" font-family=\"Times New Roman,serif\" font-size=\"14.00\">samples = 2</text>\r\n",
       "<text text-anchor=\"middle\" x=\"472\" y=\"-312.3\" font-family=\"Times New Roman,serif\" font-size=\"14.00\">value = [2, 0]</text>\r\n",
       "</g>\r\n",
       "<!-- 16&#45;&gt;17 -->\r\n",
       "<g id=\"edge17\" class=\"edge\"><title>16&#45;&gt;17</title>\r\n",
       "<path fill=\"none\" stroke=\"black\" d=\"M472.675,-400.884C472.572,-390.326 472.457,-378.597 472.352,-367.854\"/>\r\n",
       "<polygon fill=\"black\" stroke=\"black\" points=\"475.848,-367.485 472.25,-357.52 468.848,-367.554 475.848,-367.485\"/>\r\n",
       "</g>\r\n",
       "<!-- 18 -->\r\n",
       "<g id=\"node19\" class=\"node\"><title>18</title>\r\n",
       "<polygon fill=\"none\" stroke=\"black\" points=\"652,-365 536,-365 536,-297 652,-297 652,-365\"/>\r\n",
       "<text text-anchor=\"middle\" x=\"594\" y=\"-349.8\" font-family=\"Times New Roman,serif\" font-size=\"14.00\">AirYards &lt;= 26.0</text>\r\n",
       "<text text-anchor=\"middle\" x=\"594\" y=\"-334.8\" font-family=\"Times New Roman,serif\" font-size=\"14.00\">entropy = 0.971</text>\r\n",
       "<text text-anchor=\"middle\" x=\"594\" y=\"-319.8\" font-family=\"Times New Roman,serif\" font-size=\"14.00\">samples = 5</text>\r\n",
       "<text text-anchor=\"middle\" x=\"594\" y=\"-304.8\" font-family=\"Times New Roman,serif\" font-size=\"14.00\">value = [3, 2]</text>\r\n",
       "</g>\r\n",
       "<!-- 16&#45;&gt;18 -->\r\n",
       "<g id=\"edge18\" class=\"edge\"><title>16&#45;&gt;18</title>\r\n",
       "<path fill=\"none\" stroke=\"black\" d=\"M512.285,-400.884C523.274,-391.62 535.333,-381.455 546.732,-371.845\"/>\r\n",
       "<polygon fill=\"black\" stroke=\"black\" points=\"549.108,-374.421 554.498,-365.299 544.596,-369.069 549.108,-374.421\"/>\r\n",
       "</g>\r\n",
       "<!-- 19 -->\r\n",
       "<g id=\"node20\" class=\"node\"><title>19</title>\r\n",
       "<polygon fill=\"none\" stroke=\"black\" points=\"638,-253.5 546,-253.5 546,-200.5 638,-200.5 638,-253.5\"/>\r\n",
       "<text text-anchor=\"middle\" x=\"592\" y=\"-238.3\" font-family=\"Times New Roman,serif\" font-size=\"14.00\">entropy = 1.0</text>\r\n",
       "<text text-anchor=\"middle\" x=\"592\" y=\"-223.3\" font-family=\"Times New Roman,serif\" font-size=\"14.00\">samples = 2</text>\r\n",
       "<text text-anchor=\"middle\" x=\"592\" y=\"-208.3\" font-family=\"Times New Roman,serif\" font-size=\"14.00\">value = [1, 1]</text>\r\n",
       "</g>\r\n",
       "<!-- 18&#45;&gt;19 -->\r\n",
       "<g id=\"edge19\" class=\"edge\"><title>18&#45;&gt;19</title>\r\n",
       "<path fill=\"none\" stroke=\"black\" d=\"M593.351,-296.884C593.141,-286.216 592.909,-274.352 592.696,-263.519\"/>\r\n",
       "<polygon fill=\"black\" stroke=\"black\" points=\"596.196,-263.449 592.5,-253.52 589.197,-263.587 596.196,-263.449\"/>\r\n",
       "</g>\r\n",
       "<!-- 20 -->\r\n",
       "<g id=\"node21\" class=\"node\"><title>20</title>\r\n",
       "<polygon fill=\"none\" stroke=\"black\" points=\"762,-253.5 656,-253.5 656,-200.5 762,-200.5 762,-253.5\"/>\r\n",
       "<text text-anchor=\"middle\" x=\"709\" y=\"-238.3\" font-family=\"Times New Roman,serif\" font-size=\"14.00\">entropy = 0.918</text>\r\n",
       "<text text-anchor=\"middle\" x=\"709\" y=\"-223.3\" font-family=\"Times New Roman,serif\" font-size=\"14.00\">samples = 3</text>\r\n",
       "<text text-anchor=\"middle\" x=\"709\" y=\"-208.3\" font-family=\"Times New Roman,serif\" font-size=\"14.00\">value = [2, 1]</text>\r\n",
       "</g>\r\n",
       "<!-- 18&#45;&gt;20 -->\r\n",
       "<g id=\"edge20\" class=\"edge\"><title>18&#45;&gt;20</title>\r\n",
       "<path fill=\"none\" stroke=\"black\" d=\"M631.337,-296.884C644.605,-285.116 659.512,-271.894 672.692,-260.203\"/>\r\n",
       "<polygon fill=\"black\" stroke=\"black\" points=\"675.069,-262.774 680.228,-253.52 670.424,-257.537 675.069,-262.774\"/>\r\n",
       "</g>\r\n",
       "</g>\r\n",
       "</svg>\r\n"
      ],
      "text/plain": [
       "<graphviz.files.Source at 0x220e06ea128>"
      ]
     },
     "execution_count": 44,
     "metadata": {},
     "output_type": "execute_result"
    }
   ],
   "source": [
    "graph = graphviz.Source(dot_data)\n",
    "graph"
   ]
  },
  {
   "cell_type": "code",
   "execution_count": 45,
   "metadata": {},
   "outputs": [
    {
     "data": {
      "text/plain": [
       "'BenPassTree3.pdf'"
      ]
     },
     "execution_count": 45,
     "metadata": {},
     "output_type": "execute_result"
    }
   ],
   "source": [
    "graph.render('BenPassTree3')"
   ]
  },
  {
   "cell_type": "code",
   "execution_count": 46,
   "metadata": {},
   "outputs": [
    {
     "data": {
      "text/plain": [
       "array([[ 3,  3,  5, 23],\n",
       "       [ 1, 10, 19,  6],\n",
       "       [ 3,  5,  0,  7],\n",
       "       [ 1, 10,  0, 11],\n",
       "       [ 2,  9,  1,  7],\n",
       "       [ 2, 15, -5,  7],\n",
       "       [ 3,  1,  0,  1],\n",
       "       [ 2,  6,  3,  6],\n",
       "       [ 1, 10,  0, 27],\n",
       "       [ 2,  3,  7,  9],\n",
       "       [ 2,  1,  0,  0],\n",
       "       [ 3,  5,  1,  5],\n",
       "       [ 1, 10,  0, 11],\n",
       "       [ 1, 10,  0, 25],\n",
       "       [ 2, 10,  0, 25],\n",
       "       [ 1, 10,  0,  7],\n",
       "       [ 1, 10,  0, 18],\n",
       "       [ 1,  1,  0,  1],\n",
       "       [ 1, 10,  0, 29],\n",
       "       [ 3,  8,  0, 39],\n",
       "       [ 2, 13, -3, -2],\n",
       "       [ 1, 10,  0,  9],\n",
       "       [ 4,  3,  0,  4],\n",
       "       [ 1, 10, 13,  6],\n",
       "       [ 2,  8,  0,  1],\n",
       "       [ 2, 15,  9,  4],\n",
       "       [ 3,  1,  9,  6],\n",
       "       [ 2, 10,  0, 17],\n",
       "       [ 2,  8,  2,  0],\n",
       "       [ 1, 15,  4, -1],\n",
       "       [ 1, 10, 13, 16],\n",
       "       [ 2,  5,  5,  2],\n",
       "       [ 2,  1,  9, -1],\n",
       "       [ 2,  7,  0, 11],\n",
       "       [ 1, 10,  0, 11],\n",
       "       [ 3,  9,  0, 12],\n",
       "       [ 2,  1,  0,  1],\n",
       "       [ 2, 10,  0,  4],\n",
       "       [ 3,  6,  7,  6],\n",
       "       [ 2, 10,  0,  1],\n",
       "       [ 3, 22,  6,  1],\n",
       "       [ 2, 12, -2, 23],\n",
       "       [ 1, 10,  0,  4],\n",
       "       [ 3,  3,  0,  9],\n",
       "       [ 3, 18, -6, 17],\n",
       "       [ 3,  5,  5,  4],\n",
       "       [ 4,  9,  0, 15],\n",
       "       [ 1,  9,  2,  4],\n",
       "       [ 3,  5, -1,  6]], dtype=int64)"
      ]
     },
     "execution_count": 46,
     "metadata": {},
     "output_type": "execute_result"
    }
   ],
   "source": [
    "X_train"
   ]
  },
  {
   "cell_type": "code",
   "execution_count": 47,
   "metadata": {},
   "outputs": [
    {
     "data": {
      "text/plain": [
       "array([[ 1, 10, 13, -5],\n",
       "       [ 1, 10,  0,  5],\n",
       "       [ 1, 10, 18,  7],\n",
       "       [ 1, 10, 18, 39],\n",
       "       [ 1, 10, 28, 23],\n",
       "       [ 3,  8,  2, 13],\n",
       "       [ 1, 10,  0, 18],\n",
       "       [ 1, 20,  5,  5],\n",
       "       [ 2,  8,  2,  0],\n",
       "       [ 3,  4,  3, -3],\n",
       "       [ 2, 27, -7, 14],\n",
       "       [ 1, 10, 12,  7],\n",
       "       [ 3,  3,  1, 19],\n",
       "       [ 1, 10, 11, 11],\n",
       "       [ 1, 10, 18, -4],\n",
       "       [ 3,  6,  9, 26],\n",
       "       [ 2, 11,  9,  4],\n",
       "       [ 1, 10,  0,  5],\n",
       "       [ 3,  6, -1,  2],\n",
       "       [ 2,  5,  5, 26],\n",
       "       [ 3, 12,  0,  6]], dtype=int64)"
      ]
     },
     "execution_count": 47,
     "metadata": {},
     "output_type": "execute_result"
    }
   ],
   "source": [
    "X_test"
   ]
  },
  {
   "cell_type": "code",
   "execution_count": 48,
   "metadata": {},
   "outputs": [],
   "source": [
    "predicted_completion = clf.predict(X_test)"
   ]
  },
  {
   "cell_type": "code",
   "execution_count": 49,
   "metadata": {},
   "outputs": [
    {
     "name": "stdout",
     "output_type": "stream",
     "text": [
      "[1 1 1 0 0 0 1 1 1 1 1 1 0 1 1 0 1 1 1 0 1]\n"
     ]
    }
   ],
   "source": [
    "print(predicted_completion)"
   ]
  },
  {
   "cell_type": "code",
   "execution_count": 50,
   "metadata": {},
   "outputs": [
    {
     "name": "stdout",
     "output_type": "stream",
     "text": [
      "[1 1 1 0 1 1 1 1 0 0 1 1 0 1 1 1 1 0 1 0 0]\n"
     ]
    }
   ],
   "source": [
    "print(y_test)"
   ]
  },
  {
   "cell_type": "code",
   "execution_count": 51,
   "metadata": {},
   "outputs": [
    {
     "data": {
      "text/plain": [
       "0.66666666666666663"
      ]
     },
     "execution_count": 51,
     "metadata": {},
     "output_type": "execute_result"
    }
   ],
   "source": [
    "np.mean(predicted_completion == y_test)"
   ]
  },
  {
   "cell_type": "code",
   "execution_count": 52,
   "metadata": {},
   "outputs": [
    {
     "name": "stdout",
     "output_type": "stream",
     "text": [
      "             precision    recall  f1-score   support\n",
      "\n",
      "          0       0.50      0.43      0.46         7\n",
      "          1       0.73      0.79      0.76        14\n",
      "\n",
      "avg / total       0.66      0.67      0.66        21\n",
      "\n"
     ]
    }
   ],
   "source": [
    "print(metrics.classification_report(y_test, predicted_completion))"
   ]
  },
  {
   "cell_type": "code",
   "execution_count": 53,
   "metadata": {},
   "outputs": [
    {
     "data": {
      "text/plain": [
       "array([[ 3,  4],\n",
       "       [ 3, 11]], dtype=int64)"
      ]
     },
     "execution_count": 53,
     "metadata": {},
     "output_type": "execute_result"
    }
   ],
   "source": [
    "metrics.confusion_matrix(y_test, predicted_completion)"
   ]
  },
  {
   "cell_type": "code",
   "execution_count": null,
   "metadata": {},
   "outputs": [],
   "source": []
  }
 ],
 "metadata": {
  "kernelspec": {
   "display_name": "Python 3",
   "language": "python",
   "name": "python3"
  },
  "language_info": {
   "codemirror_mode": {
    "name": "ipython",
    "version": 3
   },
   "file_extension": ".py",
   "mimetype": "text/x-python",
   "name": "python",
   "nbconvert_exporter": "python",
   "pygments_lexer": "ipython3",
   "version": "3.6.6"
  }
 },
 "nbformat": 4,
 "nbformat_minor": 2
}
