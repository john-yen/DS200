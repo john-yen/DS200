{
  "nbformat": 4,
  "nbformat_minor": 0,
  "metadata": {
    "kernelspec": {
      "name": "python3",
      "display_name": "Python 3",
      "language": "python"
    },
    "language_info": {
      "mimetype": "text/x-python",
      "nbconvert_exporter": "python",
      "name": "python",
      "pygments_lexer": "ipython3",
      "version": "3.5.4",
      "file_extension": ".py",
      "codemirror_mode": {
        "version": 3,
        "name": "ipython"
      }
    },
    "colab": {
      "provenance": [],
      "include_colab_link": true
    }
  },
  "cells": [
    {
      "cell_type": "markdown",
      "metadata": {
        "id": "view-in-github",
        "colab_type": "text"
      },
      "source": [
        "<a href=\"https://colab.research.google.com/github/john-yen/DS200/blob/master/F23_Guest_Lecture_Hyper_parameter_Tuning_and_Overfitting_DT_based_Breast_Cancer_Diagnostic.ipynb\" target=\"_parent\"><img src=\"https://colab.research.google.com/assets/colab-badge.svg\" alt=\"Open In Colab\"/></a>"
      ]
    },
    {
      "cell_type": "markdown",
      "metadata": {
        "id": "vILyB7DHDZ1q"
      },
      "source": [
        "# PSU DS 200 Section 2\n",
        "# Fall 2023\n",
        "# Guest Lecture on Hyper-parameter Tuning and Overfitting Risk: DT-based Cancer Diagnosis\n",
        "\n",
        "## Instructor: Dr. John Yen\n",
        "\n",
        "## Learning Objectives\n",
        "\n",
        "In this lab, you will learn to be able to do the following:\n",
        "- Tune a hyper-parameter (**max_depth**) of a Decision Tree-based Model to find the best value of the hyper-parameter for the given problem (breast cancer diagnosis).\n",
        "- Learn a decision tree model for classifying breast cancer data into malignant (class 1) or benign (class 0).\n",
        "- Evaluate how good is the model (for prediction) using f1 score of testing data (not used for training the model).\n",
        "- As a learning exercise, record the f1 score of training data as well.\n",
        "- Compare the f1 score for training data with f1 score for testing data for different hyper-parameter values.\n",
        "- Identify the hyper-parameter values that demonstrate a risk of **overfitting**.\n"
      ]
    },
    {
      "cell_type": "markdown",
      "source": [
        "# Breast Cancer Diagnosis Dataset\n",
        "\n",
        "The dataset used in this lab is one created for diagnosing whether a tissue image indicates malignant breast cancer or benign."
      ],
      "metadata": {
        "id": "J8iH2isYhn7t"
      }
    },
    {
      "cell_type": "code",
      "metadata": {
        "trusted": true,
        "id": "YDHybLjyzFAP"
      },
      "source": [
        "import datascience\n",
        "import numpy as np\n",
        "import graphviz\n",
        "\n",
        "from datascience import *\n",
        "from sklearn.feature_extraction.text import CountVectorizer\n",
        "from sklearn.model_selection import train_test_split\n",
        "from sklearn.pipeline import Pipeline\n",
        "from sklearn import tree\n",
        "from sklearn.tree import DecisionTreeClassifier\n",
        "from sklearn import metrics\n",
        "\n",
        "\n",
        "from sklearn.metrics import f1_score\n",
        "from sklearn.metrics import precision_score\n",
        "from sklearn.metrics import recall_score\n",
        "from sklearn.model_selection import cross_val_score\n",
        "from sklearn.model_selection import cross_validate\n",
        "from sklearn.base import ClassifierMixin\n",
        "from sklearn.model_selection import StratifiedKFold\n",
        "from sklearn.metrics import precision_recall_fscore_support\n",
        "\n",
        "import pandas as pd\n",
        "import numpy as np\n",
        "\n",
        "# from sklearn.externals import joblib\n",
        "\n",
        "import os\n",
        "os.environ[\"PATH\"] += os.pathsep + 'C:/Program Files (x86)/Graphviz2.38/bin/'"
      ],
      "execution_count": 1,
      "outputs": []
    },
    {
      "cell_type": "code",
      "metadata": {
        "trusted": true,
        "id": "x5AbEEUMrnKZ"
      },
      "source": [
        "import matplotlib.pyplot as plt\n",
        "from matplotlib.pyplot import *"
      ],
      "execution_count": 2,
      "outputs": []
    },
    {
      "cell_type": "code",
      "metadata": {
        "trusted": true,
        "id": "rR99vkTMrvGi"
      },
      "source": [
        "# matplotlib.use('Agg', warn=False)\n",
        "%matplotlib inline\n",
        "import matplotlib.pyplot as plots\n",
        "plots.style.use('fivethirtyeight')\n",
        "\n",
        "import warnings\n",
        "warnings.simplefilter(action=\"ignore\", category=FutureWarning)"
      ],
      "execution_count": 3,
      "outputs": []
    },
    {
      "cell_type": "code",
      "metadata": {
        "id": "u9IRGZ6GPIyT",
        "colab": {
          "base_uri": "https://localhost:8080/"
        },
        "outputId": "381c6bd3-1d0a-4a80-ace8-2b3476616c08"
      },
      "source": [
        "from google.colab import drive\n",
        "drive.mount('/content/drive')"
      ],
      "execution_count": 4,
      "outputs": [
        {
          "output_type": "stream",
          "name": "stdout",
          "text": [
            "Mounted at /content/drive\n"
          ]
        }
      ]
    },
    {
      "cell_type": "code",
      "metadata": {
        "id": "93Msrl_OQO7s"
      },
      "source": [
        "!ls /content/drive/My\\ Drive/DS200Labs/"
      ],
      "execution_count": null,
      "outputs": []
    },
    {
      "cell_type": "code",
      "metadata": {
        "id": "czVKB6kbQXe0",
        "colab": {
          "base_uri": "https://localhost:8080/",
          "height": 273
        },
        "outputId": "d4a85bdb-3bf1-4d09-dac7-4c5a464acea8"
      },
      "source": [
        "path= \"/content/drive/My Drive/DS200Labs/BreatCancerFinal.csv\"\n",
        "BC_table = Table.read_table(path)\n",
        "BC_table.show(5)"
      ],
      "execution_count": 5,
      "outputs": [
        {
          "output_type": "display_data",
          "data": {
            "text/plain": [
              "<IPython.core.display.HTML object>"
            ],
            "text/html": [
              "<table border=\"1\" class=\"dataframe\">\n",
              "    <thead>\n",
              "        <tr>\n",
              "            <th>radius_mean</th> <th>texture_mean</th> <th>perimeter_mean</th> <th>area_mean</th> <th>smoothness_mean</th> <th>compactness_mean</th> <th>concavity_mean</th> <th>concave points_mean</th> <th>symmetry_mean</th> <th>fractal_dimension_mean</th> <th>radius_se</th> <th>texture_se</th> <th>perimeter_se</th> <th>area_se</th> <th>smoothness_se</th> <th>compactness_se</th> <th>concavity_se</th> <th>concave points_se</th> <th>symmetry_se</th> <th>fractal_dimension_se</th> <th>radius_worst</th> <th>texture_worst</th> <th>perimeter_worst</th> <th>area_worst</th> <th>smoothness_worst</th> <th>compactness_worst</th> <th>concavity_worst</th> <th>concave points_worst</th> <th>symmetry_worst</th> <th>fractal_dimension_worst</th> <th>classification</th>\n",
              "        </tr>\n",
              "    </thead>\n",
              "    <tbody>\n",
              "        <tr>\n",
              "            <td>17.99      </td> <td>10.38       </td> <td>122.8         </td> <td>1001     </td> <td>0.1184         </td> <td>0.2776          </td> <td>0.3001        </td> <td>0.1471             </td> <td>0.2419       </td> <td>0.07871               </td> <td>1.095    </td> <td>0.9053    </td> <td>8.589       </td> <td>153.4  </td> <td>0.006399     </td> <td>0.04904       </td> <td>0.05373     </td> <td>0.01587          </td> <td>0.03003    </td> <td>0.006193            </td> <td>25.38       </td> <td>17.33        </td> <td>184.6          </td> <td>2019      </td> <td>0.1622          </td> <td>0.6656           </td> <td>0.7119         </td> <td>0.2654              </td> <td>0.4601        </td> <td>0.1189                 </td> <td>1             </td>\n",
              "        </tr>\n",
              "        <tr>\n",
              "            <td>20.57      </td> <td>17.77       </td> <td>132.9         </td> <td>1326     </td> <td>0.08474        </td> <td>0.07864         </td> <td>0.0869        </td> <td>0.07017            </td> <td>0.1812       </td> <td>0.05667               </td> <td>0.5435   </td> <td>0.7339    </td> <td>3.398       </td> <td>74.08  </td> <td>0.005225     </td> <td>0.01308       </td> <td>0.0186      </td> <td>0.0134           </td> <td>0.01389    </td> <td>0.003532            </td> <td>24.99       </td> <td>23.41        </td> <td>158.8          </td> <td>1956      </td> <td>0.1238          </td> <td>0.1866           </td> <td>0.2416         </td> <td>0.186               </td> <td>0.275         </td> <td>0.08902                </td> <td>1             </td>\n",
              "        </tr>\n",
              "        <tr>\n",
              "            <td>19.69      </td> <td>21.25       </td> <td>130           </td> <td>1203     </td> <td>0.1096         </td> <td>0.1599          </td> <td>0.1974        </td> <td>0.1279             </td> <td>0.2069       </td> <td>0.05999               </td> <td>0.7456   </td> <td>0.7869    </td> <td>4.585       </td> <td>94.03  </td> <td>0.00615      </td> <td>0.04006       </td> <td>0.03832     </td> <td>0.02058          </td> <td>0.0225     </td> <td>0.004571            </td> <td>23.57       </td> <td>25.53        </td> <td>152.5          </td> <td>1709      </td> <td>0.1444          </td> <td>0.4245           </td> <td>0.4504         </td> <td>0.243               </td> <td>0.3613        </td> <td>0.08758                </td> <td>1             </td>\n",
              "        </tr>\n",
              "        <tr>\n",
              "            <td>11.42      </td> <td>20.38       </td> <td>77.58         </td> <td>386.1    </td> <td>0.1425         </td> <td>0.2839          </td> <td>0.2414        </td> <td>0.1052             </td> <td>0.2597       </td> <td>0.09744               </td> <td>0.4956   </td> <td>1.156     </td> <td>3.445       </td> <td>27.23  </td> <td>0.00911      </td> <td>0.07458       </td> <td>0.05661     </td> <td>0.01867          </td> <td>0.05963    </td> <td>0.009208            </td> <td>14.91       </td> <td>26.5         </td> <td>98.87          </td> <td>567.7     </td> <td>0.2098          </td> <td>0.8663           </td> <td>0.6869         </td> <td>0.2575              </td> <td>0.6638        </td> <td>0.173                  </td> <td>1             </td>\n",
              "        </tr>\n",
              "        <tr>\n",
              "            <td>20.29      </td> <td>14.34       </td> <td>135.1         </td> <td>1297     </td> <td>0.1003         </td> <td>0.1328          </td> <td>0.198         </td> <td>0.1043             </td> <td>0.1809       </td> <td>0.05883               </td> <td>0.7572   </td> <td>0.7813    </td> <td>5.438       </td> <td>94.44  </td> <td>0.01149      </td> <td>0.02461       </td> <td>0.05688     </td> <td>0.01885          </td> <td>0.01756    </td> <td>0.005115            </td> <td>22.54       </td> <td>16.67        </td> <td>152.2          </td> <td>1575      </td> <td>0.1374          </td> <td>0.205            </td> <td>0.4            </td> <td>0.1625              </td> <td>0.2364        </td> <td>0.07678                </td> <td>1             </td>\n",
              "        </tr>\n",
              "    </tbody>\n",
              "</table>\n",
              "<p>... (564 rows omitted)</p>"
            ]
          },
          "metadata": {}
        }
      ]
    },
    {
      "cell_type": "code",
      "metadata": {
        "id": "Igg23233JoDh",
        "colab": {
          "base_uri": "https://localhost:8080/"
        },
        "outputId": "9f6da75c-138d-40a9-8c7a-41ed26e1d305"
      },
      "source": [
        "BC_feature_names= BC_table.labels\n",
        "print(BC_feature_names)\n",
        "BC_table.num_columns"
      ],
      "execution_count": 6,
      "outputs": [
        {
          "output_type": "stream",
          "name": "stdout",
          "text": [
            "('radius_mean', 'texture_mean', 'perimeter_mean', 'area_mean', 'smoothness_mean', 'compactness_mean', 'concavity_mean', 'concave points_mean', 'symmetry_mean', 'fractal_dimension_mean', 'radius_se', 'texture_se', 'perimeter_se', 'area_se', 'smoothness_se', 'compactness_se', 'concavity_se', 'concave points_se', 'symmetry_se', 'fractal_dimension_se', 'radius_worst', 'texture_worst', 'perimeter_worst', 'area_worst', 'smoothness_worst', 'compactness_worst', 'concavity_worst', 'concave points_worst', 'symmetry_worst', 'fractal_dimension_worst', 'classification')\n"
          ]
        },
        {
          "output_type": "execute_result",
          "data": {
            "text/plain": [
              "31"
            ]
          },
          "metadata": {},
          "execution_count": 6
        }
      ]
    },
    {
      "cell_type": "code",
      "metadata": {
        "id": "nQdgd6b0KRLd",
        "colab": {
          "base_uri": "https://localhost:8080/"
        },
        "outputId": "80beda90-10ae-48f2-e480-7f23d435de7d"
      },
      "source": [
        "# Because the last column is 'classification', which is NOT a feture, but the model's prediction variable, therefore we need to extract the first 30 columns as the list of feature names.\n",
        "BC_feature_names = BC_feature_names[0:30]\n",
        "print(BC_feature_names)"
      ],
      "execution_count": 7,
      "outputs": [
        {
          "output_type": "stream",
          "name": "stdout",
          "text": [
            "('radius_mean', 'texture_mean', 'perimeter_mean', 'area_mean', 'smoothness_mean', 'compactness_mean', 'concavity_mean', 'concave points_mean', 'symmetry_mean', 'fractal_dimension_mean', 'radius_se', 'texture_se', 'perimeter_se', 'area_se', 'smoothness_se', 'compactness_se', 'concavity_se', 'concave points_se', 'symmetry_se', 'fractal_dimension_se', 'radius_worst', 'texture_worst', 'perimeter_worst', 'area_worst', 'smoothness_worst', 'compactness_worst', 'concavity_worst', 'concave points_worst', 'symmetry_worst', 'fractal_dimension_worst')\n"
          ]
        }
      ]
    },
    {
      "cell_type": "markdown",
      "metadata": {
        "id": "Z6aSZ9Z1MGSY"
      },
      "source": [
        "## Convert Tables to Data Frame\n",
        "Like Lab 6, we first convert the final Breast Cancer dataset table to a DataFrame."
      ]
    },
    {
      "cell_type": "code",
      "metadata": {
        "id": "SlYk-HDbLbyY"
      },
      "source": [
        "# Convert the Breast Cancer Final Table to a Data Frame using .to_df method of Tables in datascience module.\n",
        "BC_DF= BC_table.to_df()"
      ],
      "execution_count": 8,
      "outputs": []
    },
    {
      "cell_type": "code",
      "metadata": {
        "id": "htzy_9oHMVpU",
        "colab": {
          "base_uri": "https://localhost:8080/"
        },
        "outputId": "00b079a1-f5ca-40eb-a100-275f38381358"
      },
      "source": [
        "BC_features = BC_DF.values[:, 0:30]\n",
        "print(BC_features)"
      ],
      "execution_count": 9,
      "outputs": [
        {
          "output_type": "stream",
          "name": "stdout",
          "text": [
            "[[  1.79900000e+01   1.03800000e+01   1.22800000e+02 ...,   2.65400000e-01\n",
            "    4.60100000e-01   1.18900000e-01]\n",
            " [  2.05700000e+01   1.77700000e+01   1.32900000e+02 ...,   1.86000000e-01\n",
            "    2.75000000e-01   8.90200000e-02]\n",
            " [  1.96900000e+01   2.12500000e+01   1.30000000e+02 ...,   2.43000000e-01\n",
            "    3.61300000e-01   8.75800000e-02]\n",
            " ..., \n",
            " [  1.40500000e+01   2.71500000e+01   9.13800000e+01 ...,   1.04800000e-01\n",
            "    2.25000000e-01   8.32100000e-02]\n",
            " [  1.12000000e+01   2.93700000e+01   7.06700000e+01 ...,   0.00000000e+00\n",
            "    1.56600000e-01   5.90500000e-02]\n",
            " [  7.76000000e+00   2.45400000e+01   4.79200000e+01 ...,   0.00000000e+00\n",
            "    2.87100000e-01   7.03900000e-02]]\n"
          ]
        }
      ]
    },
    {
      "cell_type": "code",
      "metadata": {
        "id": "2WJp2EqWMrqL",
        "colab": {
          "base_uri": "https://localhost:8080/"
        },
        "outputId": "c4073725-39f8-4652-8c35-a8e9f40431c6"
      },
      "source": [
        "BC_classification = BC_DF.values[:, 30]\n",
        "print(BC_classification)\n",
        "type(BC_classification)"
      ],
      "execution_count": 10,
      "outputs": [
        {
          "output_type": "stream",
          "name": "stdout",
          "text": [
            "[ 1.  1.  1.  1.  1.  1.  1.  1.  1.  1.  1.  1.  1.  1.  1.  1.  1.  1.\n",
            "  1.  1.  1.  1.  1.  1.  1.  1.  1.  1.  1.  1.  1.  1.  1.  1.  1.  1.\n",
            "  1.  1.  1.  1.  1.  1.  1.  1.  1.  1.  1.  1.  1.  1.  1.  1.  1.  1.\n",
            "  1.  1.  1.  1.  1.  1.  1.  1.  1.  1.  1.  1.  1.  1.  1.  1.  1.  1.\n",
            "  1.  1.  1.  1.  1.  1.  1.  1.  1.  1.  1.  1.  1.  1.  1.  1.  1.  1.\n",
            "  1.  1.  1.  1.  1.  1.  1.  1.  1.  1.  1.  1.  1.  1.  1.  1.  1.  1.\n",
            "  1.  1.  1.  1.  1.  1.  1.  1.  1.  1.  1.  1.  1.  1.  1.  1.  1.  1.\n",
            "  1.  1.  1.  1.  1.  1.  1.  1.  1.  1.  1.  1.  1.  1.  1.  1.  1.  1.\n",
            "  1.  1.  1.  1.  1.  1.  1.  1.  1.  1.  1.  1.  1.  1.  1.  1.  1.  1.\n",
            "  1.  1.  1.  1.  1.  1.  1.  1.  1.  1.  1.  1.  1.  1.  1.  1.  1.  1.\n",
            "  1.  1.  1.  1.  1.  1.  1.  1.  1.  1.  1.  1.  1.  1.  1.  1.  1.  1.\n",
            "  1.  1.  1.  1.  1.  1.  1.  1.  1.  1.  1.  1.  1.  1.  0.  0.  0.  0.\n",
            "  0.  0.  0.  0.  0.  0.  0.  0.  0.  0.  0.  0.  0.  0.  0.  0.  0.  0.\n",
            "  0.  0.  0.  0.  0.  0.  0.  0.  0.  0.  0.  0.  0.  0.  0.  0.  0.  0.\n",
            "  0.  0.  0.  0.  0.  0.  0.  0.  0.  0.  0.  0.  0.  0.  0.  0.  0.  0.\n",
            "  0.  0.  0.  0.  0.  0.  0.  0.  0.  0.  0.  0.  0.  0.  0.  0.  0.  0.\n",
            "  0.  0.  0.  0.  0.  0.  0.  0.  0.  0.  0.  0.  0.  0.  0.  0.  0.  0.\n",
            "  0.  0.  0.  0.  0.  0.  0.  0.  0.  0.  0.  0.  0.  0.  0.  0.  0.  0.\n",
            "  0.  0.  0.  0.  0.  0.  0.  0.  0.  0.  0.  0.  0.  0.  0.  0.  0.  0.\n",
            "  0.  0.  0.  0.  0.  0.  0.  0.  0.  0.  0.  0.  0.  0.  0.  0.  0.  0.\n",
            "  0.  0.  0.  0.  0.  0.  0.  0.  0.  0.  0.  0.  0.  0.  0.  0.  0.  0.\n",
            "  0.  0.  0.  0.  0.  0.  0.  0.  0.  0.  0.  0.  0.  0.  0.  0.  0.  0.\n",
            "  0.  0.  0.  0.  0.  0.  0.  0.  0.  0.  0.  0.  0.  0.  0.  0.  0.  0.\n",
            "  0.  0.  0.  0.  0.  0.  0.  0.  0.  0.  0.  0.  0.  0.  0.  0.  0.  0.\n",
            "  0.  0.  0.  0.  0.  0.  0.  0.  0.  0.  0.  0.  0.  0.  0.  0.  0.  0.\n",
            "  0.  0.  0.  0.  0.  0.  0.  0.  0.  0.  0.  0.  0.  0.  0.  0.  0.  0.\n",
            "  0.  0.  0.  0.  0.  0.  0.  0.  0.  0.  0.  0.  0.  0.  0.  0.  0.  0.\n",
            "  0.  0.  0.  0.  0.  0.  0.  0.  0.  0.  0.  0.  0.  0.  0.  0.  0.  0.\n",
            "  0.  0.  0.  0.  0.  0.  0.  0.  0.  0.  0.  0.  0.  0.  0.  0.  0.  0.\n",
            "  0.  0.  0.  0.  0.  0.  0.  0.  0.  0.  0.  0.  0.  0.  0.  0.  0.  0.\n",
            "  0.  0.  0.  0.  0.  0.  0.  0.  0.  0.  0.  0.  0.  0.  0.  0.  0.  0.\n",
            "  0.  0.  0.  0.  0.  0.  0.  0.  0.  0.  0.]\n"
          ]
        },
        {
          "output_type": "execute_result",
          "data": {
            "text/plain": [
              "numpy.ndarray"
            ]
          },
          "metadata": {},
          "execution_count": 10
        }
      ]
    },
    {
      "cell_type": "code",
      "metadata": {
        "trusted": true,
        "id": "F3MIZrcrzFBT",
        "colab": {
          "base_uri": "https://localhost:8080/"
        },
        "outputId": "cca8db00-36c0-4bbf-9654-2212589cf5bf"
      },
      "source": [
        "# Print the total number of labelled data. This way, we can double check the number of training and testing in each fold is correct.\n",
        "print('Size of Labelled Data: ', len(BC_classification))"
      ],
      "execution_count": 11,
      "outputs": [
        {
          "output_type": "stream",
          "name": "stdout",
          "text": [
            "Size of Labelled Data:  569\n"
          ]
        }
      ]
    },
    {
      "cell_type": "markdown",
      "source": [
        "# Split Labelled Data into Training Set and Testing Set\n",
        "\n"
      ],
      "metadata": {
        "id": "6ITWh12kvJsT"
      }
    },
    {
      "cell_type": "code",
      "source": [
        "X = BC_features\n",
        "y = BC_classification"
      ],
      "metadata": {
        "id": "nSBIAvIBwH29"
      },
      "execution_count": 12,
      "outputs": []
    },
    {
      "cell_type": "code",
      "metadata": {
        "trusted": true,
        "id": "TWdve7b0DZ3E"
      },
      "source": [
        "X_train, X_test, y_train, y_test = train_test_split( X, y, test_size = 0.25, random_state = 100)"
      ],
      "execution_count": 13,
      "outputs": []
    },
    {
      "cell_type": "markdown",
      "source": [
        "# Hyper-parameter Tuning\n",
        "The goal of hyper-parameter tuning is to find the best combination of hyper-parameters for a machine learning model (e.g., decision trees in this lab) based on evaluating the learned models using testing data (data NOT used for training the model).\n",
        "\n",
        "In general, there are more than one hyper-parameters that can be tuned.  For example, we have seen two hyper-parameters for decision trees: ``max_depth``, and ``min_samples_leaf``.\n",
        "\n",
        "Hyper-parameter tuning consists of two components:\n",
        "- 1. Iterate through combination of possible hyper-parameter combinations.  A simple way to do this is ``grid search``, which search for all combinations of candidate values of these hyper-parameters.  \n",
        "- 2. For each hyper-parameter combination, create a machine learning model (e.g., a decision tree in this lab) using the hyper-parameter combination,  and evaluate the model using the testing data (data NOT used for\n",
        "training the model).\n",
        "\n",
        "The hyper-parameter combination whose model provides the best evaluation result is then chosen as the **best hyperparameters** to be used for the given machine learning problem.\n",
        "\n",
        "In this lab, we will tune only one of the hyper-parameters: **max_depth**."
      ],
      "metadata": {
        "id": "XxsDC1FGaalK"
      }
    },
    {
      "cell_type": "code",
      "source": [
        "low_max_depth = 2\n",
        "high_max_depth = 10"
      ],
      "metadata": {
        "id": "dUkkTQmltQB_"
      },
      "execution_count": 14,
      "outputs": []
    },
    {
      "cell_type": "markdown",
      "source": [
        "## Exercise 1 (1 point)\n",
        "Complete the following code for tuning the ``max_depth`` hyper-parameter for learning decision trees for breast cancer diagnosis.  We use a table called ``parameter_tuning_table`` to store the f1 scores of the decision trees learned for each value of ``max_depth``.  While only the f1 score for testing data is typically used for choosing the best hyper parameters, we\n",
        "also compute f1 score for testing data in this lab, for demonstrating/understanding the risk of overfitting. Therefore, the ``parameter_tuning_table`` has three columns:\n",
        "- max_depth:  An integer (say i) that is the value for the max_depth hyper-parameter.\n",
        "- f1 of training data: F1 score of training data for the model constructed using the max_depth i.\n",
        "- f1 of testing data: F1 score of testing data for the model constructed using the max_depth i."
      ],
      "metadata": {
        "id": "3WHxMgtekfNg"
      }
    },
    {
      "cell_type": "code",
      "source": [
        "parameter_tuning_table = Table(make_array('max_depth', 'f1 of training data', 'f1 of testing data'))\n",
        "for i in range(low_max_depth, high_max_depth+1):\n",
        "  # Create a decision tree template object using i as the max_depth hyper-parameter\n",
        "  clf = tree.DecisionTreeClassifier(criterion='entropy', random_state = 100, max_depth = i, min_samples_leaf = 0.0001)\n",
        "  # Train a decision tree model using the template\n",
        "  clf.fit(X_train, y_train)\n",
        "  # f1 of training data\n",
        "  y_train_predict = clf.predict(X_train)\n",
        "  f1_train = f1_score(y_train, y_train_predict)\n",
        "  # f1 of testing data\n",
        "  y_test_predict = clf.predict(X_test)\n",
        "  f1_test = f1_score(y_test, y_test_predict)\n",
        "  parameter_tuning_table.append([ i, f1_train, f1_test])"
      ],
      "metadata": {
        "id": "1te96bIqf9EX"
      },
      "execution_count": 15,
      "outputs": []
    },
    {
      "cell_type": "markdown",
      "source": [
        "# Access the f1 for training data and f1 for testing data from the parameter_tuning_table\n"
      ],
      "metadata": {
        "id": "kWkjsW57x-ge"
      }
    },
    {
      "cell_type": "code",
      "source": [
        "f1_training_array = parameter_tuning_table.column(\"f1 of training data\")\n",
        "f1_testing_array = parameter_tuning_table.column(\"f1 of testing data\")"
      ],
      "metadata": {
        "id": "8WcZgyx1x8Gu"
      },
      "execution_count": 16,
      "outputs": []
    },
    {
      "cell_type": "code",
      "source": [
        "max_depth_array = parameter_tuning_table.column(\"max_depth\")"
      ],
      "metadata": {
        "id": "WWajkYJIy09W"
      },
      "execution_count": 17,
      "outputs": []
    },
    {
      "cell_type": "markdown",
      "metadata": {
        "id": "pbFDgkP3zFCK"
      },
      "source": [
        "### We want to plot the average of f1 scores (across all k folds) for each max_depth, and compare the average of f1 scores for training data and testing data"
      ]
    },
    {
      "cell_type": "code",
      "metadata": {
        "trusted": true,
        "id": "3Y0hV40nzFCL"
      },
      "source": [
        "import matplotlib.pyplot as plt\n",
        "from matplotlib.pyplot import *"
      ],
      "execution_count": 18,
      "outputs": []
    },
    {
      "cell_type": "code",
      "metadata": {
        "trusted": true,
        "id": "2dNGnOTfzFCP"
      },
      "source": [
        " #matplotlib.use('Agg', warn=False)\n",
        "%matplotlib inline\n",
        "import matplotlib.pyplot as plots\n",
        "plots.style.use('fivethirtyeight')\n",
        "\n",
        "import warnings\n",
        "warnings.simplefilter(action=\"ignore\", category=FutureWarning )"
      ],
      "execution_count": 19,
      "outputs": []
    },
    {
      "cell_type": "markdown",
      "metadata": {
        "id": "y8VA8n3TzFCd"
      },
      "source": [
        "# Exercise 2 (0.5 points)\n",
        "Complete the following code for plotting f1 training and\n",
        "f1 testing for different max_depth hyper-parameter used for decision tree learning. There are two ``plot.plot`` commands.  The first one plots the f1 for training data, whereas the second one plots the f1 for testing data. Make sure you enter the correct variable and correct lable in each plot command."
      ]
    },
    {
      "cell_type": "code",
      "metadata": {
        "trusted": true,
        "id": "VhKtQDIVzFCd",
        "colab": {
          "base_uri": "https://localhost:8080/",
          "height": 508
        },
        "outputId": "8cbd49ab-58d6-4ffb-c6d5-86b8eef49eb7"
      },
      "source": [
        "training_label= \" f1 for training\"\n",
        "testing_label = \" f1 for testing\"\n",
        "plt.plot(max_depth_array, f1_training_array, label= training_label)\n",
        "plt.plot(max_depth_array, f1_testing_array, label = testing_label)\n",
        "plt.xlabel('max_depth')\n",
        "title= 'f1 vs max_depth for training data and testing data'\n",
        "plt.title(title)\n",
        "plt.legend()\n",
        "plt.show()"
      ],
      "execution_count": 20,
      "outputs": [
        {
          "output_type": "display_data",
          "data": {
            "text/plain": [
              "<Figure size 640x480 with 1 Axes>"
            ],
            "image/png": "[encoded data removed]"
          },
          "metadata": {}
        }
      ]
    },
    {
      "cell_type": "markdown",
      "metadata": {
        "id": "jpAASTqnt7B7"
      },
      "source": [
        "# Exercise 3 (0.5 points)\n",
        "Based on the comparison of f1 score for training data and for testing data for different value of max_depth, discuss what values of max_depth lead to models with a high risk of overfitting."
      ]
    },
    {
      "cell_type": "markdown",
      "source": [
        "# Answer to Exercise 3\n",
        "Type your answer here."
      ],
      "metadata": {
        "id": "-o8KNnjkjVJv"
      }
    }
  ]
}